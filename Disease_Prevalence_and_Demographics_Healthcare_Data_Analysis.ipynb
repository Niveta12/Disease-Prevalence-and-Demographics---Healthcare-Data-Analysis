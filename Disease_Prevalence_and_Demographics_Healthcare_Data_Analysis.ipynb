{
  "nbformat": 4,
  "nbformat_minor": 0,
  "metadata": {
    "colab": {
      "provenance": []
    },
    "kernelspec": {
      "name": "python3",
      "display_name": "Python 3"
    },
    "language_info": {
      "name": "python"
    }
  },
  "cells": [
    {
      "cell_type": "markdown",
      "source": [
        "#NTR Vaidya Seva 2017\n",
        "Healthcare data from the Indian state of Andhra Pradesh.\n",
        "\n",
        "Dataset owned by the Government of Andhra Pradesh but released freely on official website."
      ],
      "metadata": {
        "id": "ihMHlNSRSb7Z"
      }
    },
    {
      "cell_type": "markdown",
      "source": [
        "This dataset contains around 480,000 records of patients data from the NTR Vaidya Seva scheme of the Government of Andhra Pradesh, India. NTR Vaidya Seva is the flagship healthcare scheme of the government in which lower-middle class and low-income citizens of the state of Andhra Pradesh can obtain free healthcare for many major diseases and ailments. A similar program exists in the neighboring state of Telangana as well."
      ],
      "metadata": {
        "id": "5dJ0Pe_2Sjnf"
      }
    },
    {
      "cell_type": "code",
      "source": [
        "from google.colab import drive\n",
        "drive.mount('/content/drive')"
      ],
      "metadata": {
        "colab": {
          "base_uri": "https://localhost:8080/"
        },
        "id": "LgGdP6RTlBgQ",
        "outputId": "62bf2b13-1880-4654-931d-23650f410931"
      },
      "execution_count": null,
      "outputs": [
        {
          "output_type": "stream",
          "name": "stdout",
          "text": [
            "Mounted at /content/drive\n"
          ]
        }
      ]
    },
    {
      "cell_type": "code",
      "source": [
        "import pandas as pd\n",
        "import numpy as np\n",
        "import seaborn as sns\n",
        "import matplotlib.pyplot as plt"
      ],
      "metadata": {
        "id": "sPTtrg95lJIS"
      },
      "execution_count": null,
      "outputs": []
    },
    {
      "cell_type": "code",
      "source": [
        "health=pd.read_csv(\"/content/drive/MyDrive/ntrarogyaseva.csv\")\n",
        "health"
      ],
      "metadata": {
        "colab": {
          "base_uri": "https://localhost:8080/",
          "height": 999
        },
        "id": "0Skgs1CNlQvb",
        "outputId": "75b2a984-b927-4274-9ae3-e2cdaa6497fe"
      },
      "execution_count": null,
      "outputs": [
        {
          "output_type": "execute_result",
          "data": {
            "text/plain": [
              "                AGE     SEX CASTE_NAME CATEGORY_CODE  \\\n",
              "0            1   56  Female         BC            M6   \n",
              "1            2   37    Male         BC            M6   \n",
              "2            3   50    Male         BC            M6   \n",
              "3            4   45    Male         BC            M6   \n",
              "4            5   54    Male         BC            M6   \n",
              "...        ...  ...     ...        ...           ...   \n",
              "479683  479684   22  Female         BC            S4   \n",
              "479684  479685   60    Male         BC           S12   \n",
              "479685  479686   38    Male         OC           S15   \n",
              "479686  479687   59    Male         OC            S3   \n",
              "479687  479688   63    Male         OC            S3   \n",
              "\n",
              "                              CATEGORY_NAME SURGERY_CODE  \\\n",
              "0                                NEPHROLOGY         M6.5   \n",
              "1                                NEPHROLOGY         M6.5   \n",
              "2                                NEPHROLOGY         M6.5   \n",
              "3                                NEPHROLOGY         M6.5   \n",
              "4                                NEPHROLOGY         M6.5   \n",
              "...                                     ...          ...   \n",
              "479683  GYNAECOLOGY AND OBSTETRICS  SURGERY       S4.2.2   \n",
              "479684                     MEDICAL ONCOLOGY   S12.16.2.2   \n",
              "479685                          POLY TRAUMA      S15.1.1   \n",
              "479686               OPHTHALMOLOGY  SURGERY       S3.3.1   \n",
              "479687               OPHTHALMOLOGY  SURGERY       S3.3.1   \n",
              "\n",
              "                                                  SURGERY        VILLAGE  \\\n",
              "0                        Maintenance Hemodialysis For Crf         Lolugu   \n",
              "1                        Maintenance Hemodialysis For Crf      Borivanka   \n",
              "2                        Maintenance Hemodialysis For Crf    Kapasakuddi   \n",
              "3                        Maintenance Hemodialysis For Crf    Telikipenta   \n",
              "4                        Maintenance Hemodialysis For Crf  Thandemvalasa   \n",
              "...                                                   ...            ...   \n",
              "479683                            Laparoscopic Cystectomy  Kalayakagollu   \n",
              "479684  Chemotherapy for Non Hodgkin Lymphoma with  R ...      Rajupalem   \n",
              "479685           Surgical Correction Of Longbone Fracture         Yeturu   \n",
              "479686                                         Vitrectomy    Ganapavaram   \n",
              "479687                                         Vitrectomy    Savarigudem   \n",
              "\n",
              "             MANDAL_NAME  ... CLAIM_AMOUNT  \\\n",
              "0                Ponduru  ...        11000   \n",
              "1                 Kaviti  ...        11000   \n",
              "2                 Kaviti  ...        11500   \n",
              "3            Sarubujjili  ...        11000   \n",
              "4             Srikakulam  ...        11000   \n",
              "...                  ...  ...          ...   \n",
              "479683  Butchireddipalem  ...        24910   \n",
              "479684       Kothapatnam  ...        45910   \n",
              "479685          Chejerla  ...        30000   \n",
              "479686       Ganapavaram  ...        23020   \n",
              "479687        Gannavaram  ...        23020   \n",
              "\n",
              "                                                HOSP_NAME  HOSP_TYPE  \\\n",
              "0                 Rims Govt. General Hospital, Srikakulam          G   \n",
              "1                 Rims Govt. General Hospital, Srikakulam          G   \n",
              "2                 Rims Govt. General Hospital, Srikakulam          G   \n",
              "3                 Rims Govt. General Hospital, Srikakulam          G   \n",
              "4                 Rims Govt. General Hospital, Srikakulam          G   \n",
              "...                                                   ...        ...   \n",
              "479683  Krishna Institute of Medical Sciences Bollinen...          C   \n",
              "479684                 Manipal Health Enterprises PVT LTD          C   \n",
              "479685  Krishna Institute of Medical Sciences Bollinen...          C   \n",
              "479686                                Sankar Eye Hospital          C   \n",
              "479687                                Sankar Eye Hospital          C   \n",
              "\n",
              "       HOSP_LOCATION  HOSP_DISTRICT         SURGERY_DATE       DISCHARGE_DATE  \\\n",
              "0         SRIKAKULAM     Srikakulam  06/08/2013 00:00:00  07/09/2013 00:00:00   \n",
              "1         SRIKAKULAM     Srikakulam  08/08/2013 00:00:00  09/09/2013 00:00:00   \n",
              "2         SRIKAKULAM     Srikakulam  15/08/2013 00:00:00  18/10/2013 00:00:00   \n",
              "3         SRIKAKULAM     Srikakulam  24/08/2013 00:00:00  27/09/2013 00:00:00   \n",
              "4         SRIKAKULAM     Srikakulam  31/08/2013 00:00:00  02/10/2013 00:00:00   \n",
              "...              ...            ...                  ...                  ...   \n",
              "479683       NELLORE        Nellore  15/11/2017 00:00:00  19/11/2017 00:00:00   \n",
              "479684        GUNTUR         Guntur  17/11/2017 00:00:00  18/11/2017 00:00:00   \n",
              "479685       NELLORE        Nellore  16/11/2017 00:00:00  18/11/2017 00:00:00   \n",
              "479686        GUNTUR         Guntur  16/11/2017 00:00:00  18/11/2017 00:00:00   \n",
              "479687        GUNTUR         Guntur  16/11/2017 00:00:00  18/11/2017 00:00:00   \n",
              "\n",
              "       Mortality Y / N MORTALITY_DATE SRC_REGISTRATION  \n",
              "0                   NO            NaN                D  \n",
              "1                   NO            NaN                D  \n",
              "2                   NO            NaN                D  \n",
              "3                   NO            NaN                D  \n",
              "4                   NO            NaN                D  \n",
              "...                ...            ...              ...  \n",
              "479683              NO            NaN                D  \n",
              "479684              NO            NaN                D  \n",
              "479685              NO            NaN                D  \n",
              "479686              NO            NaN                D  \n",
              "479687              NO            NaN                D  \n",
              "\n",
              "[479688 rows x 24 columns]"
            ],
            "text/html": [
              "\n",
              "  <div id=\"df-18b92ae5-9a4c-44da-93a1-8c65dab08a64\" class=\"colab-df-container\">\n",
              "    <div>\n",
              "<style scoped>\n",
              "    .dataframe tbody tr th:only-of-type {\n",
              "        vertical-align: middle;\n",
              "    }\n",
              "\n",
              "    .dataframe tbody tr th {\n",
              "        vertical-align: top;\n",
              "    }\n",
              "\n",
              "    .dataframe thead th {\n",
              "        text-align: right;\n",
              "    }\n",
              "</style>\n",
              "<table border=\"1\" class=\"dataframe\">\n",
              "  <thead>\n",
              "    <tr style=\"text-align: right;\">\n",
              "      <th></th>\n",
              "      <th></th>\n",
              "      <th>AGE</th>\n",
              "      <th>SEX</th>\n",
              "      <th>CASTE_NAME</th>\n",
              "      <th>CATEGORY_CODE</th>\n",
              "      <th>CATEGORY_NAME</th>\n",
              "      <th>SURGERY_CODE</th>\n",
              "      <th>SURGERY</th>\n",
              "      <th>VILLAGE</th>\n",
              "      <th>MANDAL_NAME</th>\n",
              "      <th>...</th>\n",
              "      <th>CLAIM_AMOUNT</th>\n",
              "      <th>HOSP_NAME</th>\n",
              "      <th>HOSP_TYPE</th>\n",
              "      <th>HOSP_LOCATION</th>\n",
              "      <th>HOSP_DISTRICT</th>\n",
              "      <th>SURGERY_DATE</th>\n",
              "      <th>DISCHARGE_DATE</th>\n",
              "      <th>Mortality Y / N</th>\n",
              "      <th>MORTALITY_DATE</th>\n",
              "      <th>SRC_REGISTRATION</th>\n",
              "    </tr>\n",
              "  </thead>\n",
              "  <tbody>\n",
              "    <tr>\n",
              "      <th>0</th>\n",
              "      <td>1</td>\n",
              "      <td>56</td>\n",
              "      <td>Female</td>\n",
              "      <td>BC</td>\n",
              "      <td>M6</td>\n",
              "      <td>NEPHROLOGY</td>\n",
              "      <td>M6.5</td>\n",
              "      <td>Maintenance Hemodialysis For Crf</td>\n",
              "      <td>Lolugu</td>\n",
              "      <td>Ponduru</td>\n",
              "      <td>...</td>\n",
              "      <td>11000</td>\n",
              "      <td>Rims Govt. General Hospital, Srikakulam</td>\n",
              "      <td>G</td>\n",
              "      <td>SRIKAKULAM</td>\n",
              "      <td>Srikakulam</td>\n",
              "      <td>06/08/2013 00:00:00</td>\n",
              "      <td>07/09/2013 00:00:00</td>\n",
              "      <td>NO</td>\n",
              "      <td>NaN</td>\n",
              "      <td>D</td>\n",
              "    </tr>\n",
              "    <tr>\n",
              "      <th>1</th>\n",
              "      <td>2</td>\n",
              "      <td>37</td>\n",
              "      <td>Male</td>\n",
              "      <td>BC</td>\n",
              "      <td>M6</td>\n",
              "      <td>NEPHROLOGY</td>\n",
              "      <td>M6.5</td>\n",
              "      <td>Maintenance Hemodialysis For Crf</td>\n",
              "      <td>Borivanka</td>\n",
              "      <td>Kaviti</td>\n",
              "      <td>...</td>\n",
              "      <td>11000</td>\n",
              "      <td>Rims Govt. General Hospital, Srikakulam</td>\n",
              "      <td>G</td>\n",
              "      <td>SRIKAKULAM</td>\n",
              "      <td>Srikakulam</td>\n",
              "      <td>08/08/2013 00:00:00</td>\n",
              "      <td>09/09/2013 00:00:00</td>\n",
              "      <td>NO</td>\n",
              "      <td>NaN</td>\n",
              "      <td>D</td>\n",
              "    </tr>\n",
              "    <tr>\n",
              "      <th>2</th>\n",
              "      <td>3</td>\n",
              "      <td>50</td>\n",
              "      <td>Male</td>\n",
              "      <td>BC</td>\n",
              "      <td>M6</td>\n",
              "      <td>NEPHROLOGY</td>\n",
              "      <td>M6.5</td>\n",
              "      <td>Maintenance Hemodialysis For Crf</td>\n",
              "      <td>Kapasakuddi</td>\n",
              "      <td>Kaviti</td>\n",
              "      <td>...</td>\n",
              "      <td>11500</td>\n",
              "      <td>Rims Govt. General Hospital, Srikakulam</td>\n",
              "      <td>G</td>\n",
              "      <td>SRIKAKULAM</td>\n",
              "      <td>Srikakulam</td>\n",
              "      <td>15/08/2013 00:00:00</td>\n",
              "      <td>18/10/2013 00:00:00</td>\n",
              "      <td>NO</td>\n",
              "      <td>NaN</td>\n",
              "      <td>D</td>\n",
              "    </tr>\n",
              "    <tr>\n",
              "      <th>3</th>\n",
              "      <td>4</td>\n",
              "      <td>45</td>\n",
              "      <td>Male</td>\n",
              "      <td>BC</td>\n",
              "      <td>M6</td>\n",
              "      <td>NEPHROLOGY</td>\n",
              "      <td>M6.5</td>\n",
              "      <td>Maintenance Hemodialysis For Crf</td>\n",
              "      <td>Telikipenta</td>\n",
              "      <td>Sarubujjili</td>\n",
              "      <td>...</td>\n",
              "      <td>11000</td>\n",
              "      <td>Rims Govt. General Hospital, Srikakulam</td>\n",
              "      <td>G</td>\n",
              "      <td>SRIKAKULAM</td>\n",
              "      <td>Srikakulam</td>\n",
              "      <td>24/08/2013 00:00:00</td>\n",
              "      <td>27/09/2013 00:00:00</td>\n",
              "      <td>NO</td>\n",
              "      <td>NaN</td>\n",
              "      <td>D</td>\n",
              "    </tr>\n",
              "    <tr>\n",
              "      <th>4</th>\n",
              "      <td>5</td>\n",
              "      <td>54</td>\n",
              "      <td>Male</td>\n",
              "      <td>BC</td>\n",
              "      <td>M6</td>\n",
              "      <td>NEPHROLOGY</td>\n",
              "      <td>M6.5</td>\n",
              "      <td>Maintenance Hemodialysis For Crf</td>\n",
              "      <td>Thandemvalasa</td>\n",
              "      <td>Srikakulam</td>\n",
              "      <td>...</td>\n",
              "      <td>11000</td>\n",
              "      <td>Rims Govt. General Hospital, Srikakulam</td>\n",
              "      <td>G</td>\n",
              "      <td>SRIKAKULAM</td>\n",
              "      <td>Srikakulam</td>\n",
              "      <td>31/08/2013 00:00:00</td>\n",
              "      <td>02/10/2013 00:00:00</td>\n",
              "      <td>NO</td>\n",
              "      <td>NaN</td>\n",
              "      <td>D</td>\n",
              "    </tr>\n",
              "    <tr>\n",
              "      <th>...</th>\n",
              "      <td>...</td>\n",
              "      <td>...</td>\n",
              "      <td>...</td>\n",
              "      <td>...</td>\n",
              "      <td>...</td>\n",
              "      <td>...</td>\n",
              "      <td>...</td>\n",
              "      <td>...</td>\n",
              "      <td>...</td>\n",
              "      <td>...</td>\n",
              "      <td>...</td>\n",
              "      <td>...</td>\n",
              "      <td>...</td>\n",
              "      <td>...</td>\n",
              "      <td>...</td>\n",
              "      <td>...</td>\n",
              "      <td>...</td>\n",
              "      <td>...</td>\n",
              "      <td>...</td>\n",
              "      <td>...</td>\n",
              "      <td>...</td>\n",
              "    </tr>\n",
              "    <tr>\n",
              "      <th>479683</th>\n",
              "      <td>479684</td>\n",
              "      <td>22</td>\n",
              "      <td>Female</td>\n",
              "      <td>BC</td>\n",
              "      <td>S4</td>\n",
              "      <td>GYNAECOLOGY AND OBSTETRICS  SURGERY</td>\n",
              "      <td>S4.2.2</td>\n",
              "      <td>Laparoscopic Cystectomy</td>\n",
              "      <td>Kalayakagollu</td>\n",
              "      <td>Butchireddipalem</td>\n",
              "      <td>...</td>\n",
              "      <td>24910</td>\n",
              "      <td>Krishna Institute of Medical Sciences Bollinen...</td>\n",
              "      <td>C</td>\n",
              "      <td>NELLORE</td>\n",
              "      <td>Nellore</td>\n",
              "      <td>15/11/2017 00:00:00</td>\n",
              "      <td>19/11/2017 00:00:00</td>\n",
              "      <td>NO</td>\n",
              "      <td>NaN</td>\n",
              "      <td>D</td>\n",
              "    </tr>\n",
              "    <tr>\n",
              "      <th>479684</th>\n",
              "      <td>479685</td>\n",
              "      <td>60</td>\n",
              "      <td>Male</td>\n",
              "      <td>BC</td>\n",
              "      <td>S12</td>\n",
              "      <td>MEDICAL ONCOLOGY</td>\n",
              "      <td>S12.16.2.2</td>\n",
              "      <td>Chemotherapy for Non Hodgkin Lymphoma with  R ...</td>\n",
              "      <td>Rajupalem</td>\n",
              "      <td>Kothapatnam</td>\n",
              "      <td>...</td>\n",
              "      <td>45910</td>\n",
              "      <td>Manipal Health Enterprises PVT LTD</td>\n",
              "      <td>C</td>\n",
              "      <td>GUNTUR</td>\n",
              "      <td>Guntur</td>\n",
              "      <td>17/11/2017 00:00:00</td>\n",
              "      <td>18/11/2017 00:00:00</td>\n",
              "      <td>NO</td>\n",
              "      <td>NaN</td>\n",
              "      <td>D</td>\n",
              "    </tr>\n",
              "    <tr>\n",
              "      <th>479685</th>\n",
              "      <td>479686</td>\n",
              "      <td>38</td>\n",
              "      <td>Male</td>\n",
              "      <td>OC</td>\n",
              "      <td>S15</td>\n",
              "      <td>POLY TRAUMA</td>\n",
              "      <td>S15.1.1</td>\n",
              "      <td>Surgical Correction Of Longbone Fracture</td>\n",
              "      <td>Yeturu</td>\n",
              "      <td>Chejerla</td>\n",
              "      <td>...</td>\n",
              "      <td>30000</td>\n",
              "      <td>Krishna Institute of Medical Sciences Bollinen...</td>\n",
              "      <td>C</td>\n",
              "      <td>NELLORE</td>\n",
              "      <td>Nellore</td>\n",
              "      <td>16/11/2017 00:00:00</td>\n",
              "      <td>18/11/2017 00:00:00</td>\n",
              "      <td>NO</td>\n",
              "      <td>NaN</td>\n",
              "      <td>D</td>\n",
              "    </tr>\n",
              "    <tr>\n",
              "      <th>479686</th>\n",
              "      <td>479687</td>\n",
              "      <td>59</td>\n",
              "      <td>Male</td>\n",
              "      <td>OC</td>\n",
              "      <td>S3</td>\n",
              "      <td>OPHTHALMOLOGY  SURGERY</td>\n",
              "      <td>S3.3.1</td>\n",
              "      <td>Vitrectomy</td>\n",
              "      <td>Ganapavaram</td>\n",
              "      <td>Ganapavaram</td>\n",
              "      <td>...</td>\n",
              "      <td>23020</td>\n",
              "      <td>Sankar Eye Hospital</td>\n",
              "      <td>C</td>\n",
              "      <td>GUNTUR</td>\n",
              "      <td>Guntur</td>\n",
              "      <td>16/11/2017 00:00:00</td>\n",
              "      <td>18/11/2017 00:00:00</td>\n",
              "      <td>NO</td>\n",
              "      <td>NaN</td>\n",
              "      <td>D</td>\n",
              "    </tr>\n",
              "    <tr>\n",
              "      <th>479687</th>\n",
              "      <td>479688</td>\n",
              "      <td>63</td>\n",
              "      <td>Male</td>\n",
              "      <td>OC</td>\n",
              "      <td>S3</td>\n",
              "      <td>OPHTHALMOLOGY  SURGERY</td>\n",
              "      <td>S3.3.1</td>\n",
              "      <td>Vitrectomy</td>\n",
              "      <td>Savarigudem</td>\n",
              "      <td>Gannavaram</td>\n",
              "      <td>...</td>\n",
              "      <td>23020</td>\n",
              "      <td>Sankar Eye Hospital</td>\n",
              "      <td>C</td>\n",
              "      <td>GUNTUR</td>\n",
              "      <td>Guntur</td>\n",
              "      <td>16/11/2017 00:00:00</td>\n",
              "      <td>18/11/2017 00:00:00</td>\n",
              "      <td>NO</td>\n",
              "      <td>NaN</td>\n",
              "      <td>D</td>\n",
              "    </tr>\n",
              "  </tbody>\n",
              "</table>\n",
              "<p>479688 rows × 24 columns</p>\n",
              "</div>\n",
              "    <div class=\"colab-df-buttons\">\n",
              "\n",
              "  <div class=\"colab-df-container\">\n",
              "    <button class=\"colab-df-convert\" onclick=\"convertToInteractive('df-18b92ae5-9a4c-44da-93a1-8c65dab08a64')\"\n",
              "            title=\"Convert this dataframe to an interactive table.\"\n",
              "            style=\"display:none;\">\n",
              "\n",
              "  <svg xmlns=\"http://www.w3.org/2000/svg\" height=\"24px\" viewBox=\"0 -960 960 960\">\n",
              "    <path d=\"M120-120v-720h720v720H120Zm60-500h600v-160H180v160Zm220 220h160v-160H400v160Zm0 220h160v-160H400v160ZM180-400h160v-160H180v160Zm440 0h160v-160H620v160ZM180-180h160v-160H180v160Zm440 0h160v-160H620v160Z\"/>\n",
              "  </svg>\n",
              "    </button>\n",
              "\n",
              "  <style>\n",
              "    .colab-df-container {\n",
              "      display:flex;\n",
              "      gap: 12px;\n",
              "    }\n",
              "\n",
              "    .colab-df-convert {\n",
              "      background-color: #E8F0FE;\n",
              "      border: none;\n",
              "      border-radius: 50%;\n",
              "      cursor: pointer;\n",
              "      display: none;\n",
              "      fill: #1967D2;\n",
              "      height: 32px;\n",
              "      padding: 0 0 0 0;\n",
              "      width: 32px;\n",
              "    }\n",
              "\n",
              "    .colab-df-convert:hover {\n",
              "      background-color: #E2EBFA;\n",
              "      box-shadow: 0px 1px 2px rgba(60, 64, 67, 0.3), 0px 1px 3px 1px rgba(60, 64, 67, 0.15);\n",
              "      fill: #174EA6;\n",
              "    }\n",
              "\n",
              "    .colab-df-buttons div {\n",
              "      margin-bottom: 4px;\n",
              "    }\n",
              "\n",
              "    [theme=dark] .colab-df-convert {\n",
              "      background-color: #3B4455;\n",
              "      fill: #D2E3FC;\n",
              "    }\n",
              "\n",
              "    [theme=dark] .colab-df-convert:hover {\n",
              "      background-color: #434B5C;\n",
              "      box-shadow: 0px 1px 3px 1px rgba(0, 0, 0, 0.15);\n",
              "      filter: drop-shadow(0px 1px 2px rgba(0, 0, 0, 0.3));\n",
              "      fill: #FFFFFF;\n",
              "    }\n",
              "  </style>\n",
              "\n",
              "    <script>\n",
              "      const buttonEl =\n",
              "        document.querySelector('#df-18b92ae5-9a4c-44da-93a1-8c65dab08a64 button.colab-df-convert');\n",
              "      buttonEl.style.display =\n",
              "        google.colab.kernel.accessAllowed ? 'block' : 'none';\n",
              "\n",
              "      async function convertToInteractive(key) {\n",
              "        const element = document.querySelector('#df-18b92ae5-9a4c-44da-93a1-8c65dab08a64');\n",
              "        const dataTable =\n",
              "          await google.colab.kernel.invokeFunction('convertToInteractive',\n",
              "                                                    [key], {});\n",
              "        if (!dataTable) return;\n",
              "\n",
              "        const docLinkHtml = 'Like what you see? Visit the ' +\n",
              "          '<a target=\"_blank\" href=https://colab.research.google.com/notebooks/data_table.ipynb>data table notebook</a>'\n",
              "          + ' to learn more about interactive tables.';\n",
              "        element.innerHTML = '';\n",
              "        dataTable['output_type'] = 'display_data';\n",
              "        await google.colab.output.renderOutput(dataTable, element);\n",
              "        const docLink = document.createElement('div');\n",
              "        docLink.innerHTML = docLinkHtml;\n",
              "        element.appendChild(docLink);\n",
              "      }\n",
              "    </script>\n",
              "  </div>\n",
              "\n",
              "\n",
              "<div id=\"df-4a0ccae7-8fa7-4726-a8e1-524c301228cf\">\n",
              "  <button class=\"colab-df-quickchart\" onclick=\"quickchart('df-4a0ccae7-8fa7-4726-a8e1-524c301228cf')\"\n",
              "            title=\"Suggest charts\"\n",
              "            style=\"display:none;\">\n",
              "\n",
              "<svg xmlns=\"http://www.w3.org/2000/svg\" height=\"24px\"viewBox=\"0 0 24 24\"\n",
              "     width=\"24px\">\n",
              "    <g>\n",
              "        <path d=\"M19 3H5c-1.1 0-2 .9-2 2v14c0 1.1.9 2 2 2h14c1.1 0 2-.9 2-2V5c0-1.1-.9-2-2-2zM9 17H7v-7h2v7zm4 0h-2V7h2v10zm4 0h-2v-4h2v4z\"/>\n",
              "    </g>\n",
              "</svg>\n",
              "  </button>\n",
              "\n",
              "<style>\n",
              "  .colab-df-quickchart {\n",
              "      --bg-color: #E8F0FE;\n",
              "      --fill-color: #1967D2;\n",
              "      --hover-bg-color: #E2EBFA;\n",
              "      --hover-fill-color: #174EA6;\n",
              "      --disabled-fill-color: #AAA;\n",
              "      --disabled-bg-color: #DDD;\n",
              "  }\n",
              "\n",
              "  [theme=dark] .colab-df-quickchart {\n",
              "      --bg-color: #3B4455;\n",
              "      --fill-color: #D2E3FC;\n",
              "      --hover-bg-color: #434B5C;\n",
              "      --hover-fill-color: #FFFFFF;\n",
              "      --disabled-bg-color: #3B4455;\n",
              "      --disabled-fill-color: #666;\n",
              "  }\n",
              "\n",
              "  .colab-df-quickchart {\n",
              "    background-color: var(--bg-color);\n",
              "    border: none;\n",
              "    border-radius: 50%;\n",
              "    cursor: pointer;\n",
              "    display: none;\n",
              "    fill: var(--fill-color);\n",
              "    height: 32px;\n",
              "    padding: 0;\n",
              "    width: 32px;\n",
              "  }\n",
              "\n",
              "  .colab-df-quickchart:hover {\n",
              "    background-color: var(--hover-bg-color);\n",
              "    box-shadow: 0 1px 2px rgba(60, 64, 67, 0.3), 0 1px 3px 1px rgba(60, 64, 67, 0.15);\n",
              "    fill: var(--button-hover-fill-color);\n",
              "  }\n",
              "\n",
              "  .colab-df-quickchart-complete:disabled,\n",
              "  .colab-df-quickchart-complete:disabled:hover {\n",
              "    background-color: var(--disabled-bg-color);\n",
              "    fill: var(--disabled-fill-color);\n",
              "    box-shadow: none;\n",
              "  }\n",
              "\n",
              "  .colab-df-spinner {\n",
              "    border: 2px solid var(--fill-color);\n",
              "    border-color: transparent;\n",
              "    border-bottom-color: var(--fill-color);\n",
              "    animation:\n",
              "      spin 1s steps(1) infinite;\n",
              "  }\n",
              "\n",
              "  @keyframes spin {\n",
              "    0% {\n",
              "      border-color: transparent;\n",
              "      border-bottom-color: var(--fill-color);\n",
              "      border-left-color: var(--fill-color);\n",
              "    }\n",
              "    20% {\n",
              "      border-color: transparent;\n",
              "      border-left-color: var(--fill-color);\n",
              "      border-top-color: var(--fill-color);\n",
              "    }\n",
              "    30% {\n",
              "      border-color: transparent;\n",
              "      border-left-color: var(--fill-color);\n",
              "      border-top-color: var(--fill-color);\n",
              "      border-right-color: var(--fill-color);\n",
              "    }\n",
              "    40% {\n",
              "      border-color: transparent;\n",
              "      border-right-color: var(--fill-color);\n",
              "      border-top-color: var(--fill-color);\n",
              "    }\n",
              "    60% {\n",
              "      border-color: transparent;\n",
              "      border-right-color: var(--fill-color);\n",
              "    }\n",
              "    80% {\n",
              "      border-color: transparent;\n",
              "      border-right-color: var(--fill-color);\n",
              "      border-bottom-color: var(--fill-color);\n",
              "    }\n",
              "    90% {\n",
              "      border-color: transparent;\n",
              "      border-bottom-color: var(--fill-color);\n",
              "    }\n",
              "  }\n",
              "</style>\n",
              "\n",
              "  <script>\n",
              "    async function quickchart(key) {\n",
              "      const quickchartButtonEl =\n",
              "        document.querySelector('#' + key + ' button');\n",
              "      quickchartButtonEl.disabled = true;  // To prevent multiple clicks.\n",
              "      quickchartButtonEl.classList.add('colab-df-spinner');\n",
              "      try {\n",
              "        const charts = await google.colab.kernel.invokeFunction(\n",
              "            'suggestCharts', [key], {});\n",
              "      } catch (error) {\n",
              "        console.error('Error during call to suggestCharts:', error);\n",
              "      }\n",
              "      quickchartButtonEl.classList.remove('colab-df-spinner');\n",
              "      quickchartButtonEl.classList.add('colab-df-quickchart-complete');\n",
              "    }\n",
              "    (() => {\n",
              "      let quickchartButtonEl =\n",
              "        document.querySelector('#df-4a0ccae7-8fa7-4726-a8e1-524c301228cf button');\n",
              "      quickchartButtonEl.style.display =\n",
              "        google.colab.kernel.accessAllowed ? 'block' : 'none';\n",
              "    })();\n",
              "  </script>\n",
              "</div>\n",
              "\n",
              "  <div id=\"id_69f5ec6f-589a-4dd9-b14d-3284614e0fa7\">\n",
              "    <style>\n",
              "      .colab-df-generate {\n",
              "        background-color: #E8F0FE;\n",
              "        border: none;\n",
              "        border-radius: 50%;\n",
              "        cursor: pointer;\n",
              "        display: none;\n",
              "        fill: #1967D2;\n",
              "        height: 32px;\n",
              "        padding: 0 0 0 0;\n",
              "        width: 32px;\n",
              "      }\n",
              "\n",
              "      .colab-df-generate:hover {\n",
              "        background-color: #E2EBFA;\n",
              "        box-shadow: 0px 1px 2px rgba(60, 64, 67, 0.3), 0px 1px 3px 1px rgba(60, 64, 67, 0.15);\n",
              "        fill: #174EA6;\n",
              "      }\n",
              "\n",
              "      [theme=dark] .colab-df-generate {\n",
              "        background-color: #3B4455;\n",
              "        fill: #D2E3FC;\n",
              "      }\n",
              "\n",
              "      [theme=dark] .colab-df-generate:hover {\n",
              "        background-color: #434B5C;\n",
              "        box-shadow: 0px 1px 3px 1px rgba(0, 0, 0, 0.15);\n",
              "        filter: drop-shadow(0px 1px 2px rgba(0, 0, 0, 0.3));\n",
              "        fill: #FFFFFF;\n",
              "      }\n",
              "    </style>\n",
              "    <button class=\"colab-df-generate\" onclick=\"generateWithVariable('health')\"\n",
              "            title=\"Generate code using this dataframe.\"\n",
              "            style=\"display:none;\">\n",
              "\n",
              "  <svg xmlns=\"http://www.w3.org/2000/svg\" height=\"24px\"viewBox=\"0 0 24 24\"\n",
              "       width=\"24px\">\n",
              "    <path d=\"M7,19H8.4L18.45,9,17,7.55,7,17.6ZM5,21V16.75L18.45,3.32a2,2,0,0,1,2.83,0l1.4,1.43a1.91,1.91,0,0,1,.58,1.4,1.91,1.91,0,0,1-.58,1.4L9.25,21ZM18.45,9,17,7.55Zm-12,3A5.31,5.31,0,0,0,4.9,8.1,5.31,5.31,0,0,0,1,6.5,5.31,5.31,0,0,0,4.9,4.9,5.31,5.31,0,0,0,6.5,1,5.31,5.31,0,0,0,8.1,4.9,5.31,5.31,0,0,0,12,6.5,5.46,5.46,0,0,0,6.5,12Z\"/>\n",
              "  </svg>\n",
              "    </button>\n",
              "    <script>\n",
              "      (() => {\n",
              "      const buttonEl =\n",
              "        document.querySelector('#id_69f5ec6f-589a-4dd9-b14d-3284614e0fa7 button.colab-df-generate');\n",
              "      buttonEl.style.display =\n",
              "        google.colab.kernel.accessAllowed ? 'block' : 'none';\n",
              "\n",
              "      buttonEl.onclick = () => {\n",
              "        google.colab.notebook.generateWithVariable('health');\n",
              "      }\n",
              "      })();\n",
              "    </script>\n",
              "  </div>\n",
              "\n",
              "    </div>\n",
              "  </div>\n"
            ],
            "application/vnd.google.colaboratory.intrinsic+json": {
              "type": "dataframe",
              "variable_name": "health"
            }
          },
          "metadata": {},
          "execution_count": 3
        }
      ]
    },
    {
      "cell_type": "code",
      "source": [
        "health.columns"
      ],
      "metadata": {
        "colab": {
          "base_uri": "https://localhost:8080/"
        },
        "id": "M1vCGAduleuN",
        "outputId": "2bcbd3c0-3e59-4cb5-ebcb-82559dfc6772"
      },
      "execution_count": null,
      "outputs": [
        {
          "output_type": "execute_result",
          "data": {
            "text/plain": [
              "Index(['   ', 'AGE', 'SEX', 'CASTE_NAME', 'CATEGORY_CODE', 'CATEGORY_NAME',\n",
              "       'SURGERY_CODE', 'SURGERY', 'VILLAGE', 'MANDAL_NAME', 'DISTRICT_NAME',\n",
              "       'PREAUTH_DATE', 'PREAUTH_AMT', 'CLAIM_DATE', 'CLAIM_AMOUNT',\n",
              "       'HOSP_NAME', 'HOSP_TYPE', 'HOSP_LOCATION', 'HOSP_DISTRICT',\n",
              "       'SURGERY_DATE', 'DISCHARGE_DATE', 'Mortality Y / N', 'MORTALITY_DATE',\n",
              "       'SRC_REGISTRATION'],\n",
              "      dtype='object')"
            ]
          },
          "metadata": {},
          "execution_count": 5
        }
      ]
    },
    {
      "cell_type": "code",
      "source": [
        "health.dtypes"
      ],
      "metadata": {
        "colab": {
          "base_uri": "https://localhost:8080/"
        },
        "id": "itJt6VYzlpNI",
        "outputId": "922ab367-7f07-42cb-85f4-b3bc5f3a3d7c"
      },
      "execution_count": null,
      "outputs": [
        {
          "output_type": "execute_result",
          "data": {
            "text/plain": [
              "                     int64\n",
              "AGE                  int64\n",
              "SEX                 object\n",
              "CASTE_NAME          object\n",
              "CATEGORY_CODE       object\n",
              "CATEGORY_NAME       object\n",
              "SURGERY_CODE        object\n",
              "SURGERY             object\n",
              "VILLAGE             object\n",
              "MANDAL_NAME         object\n",
              "DISTRICT_NAME       object\n",
              "PREAUTH_DATE        object\n",
              "PREAUTH_AMT          int64\n",
              "CLAIM_DATE          object\n",
              "CLAIM_AMOUNT         int64\n",
              "HOSP_NAME           object\n",
              "HOSP_TYPE           object\n",
              "HOSP_LOCATION       object\n",
              "HOSP_DISTRICT       object\n",
              "SURGERY_DATE        object\n",
              "DISCHARGE_DATE      object\n",
              "Mortality Y / N     object\n",
              "MORTALITY_DATE      object\n",
              "SRC_REGISTRATION    object\n",
              "dtype: object"
            ]
          },
          "metadata": {},
          "execution_count": 6
        }
      ]
    },
    {
      "cell_type": "code",
      "source": [
        "health.describe()"
      ],
      "metadata": {
        "colab": {
          "base_uri": "https://localhost:8080/",
          "height": 300
        },
        "id": "IgS3br7Qlu35",
        "outputId": "25e8668d-7cc5-46c5-fa39-627fa12c33d4"
      },
      "execution_count": null,
      "outputs": [
        {
          "output_type": "execute_result",
          "data": {
            "text/plain": [
              "                                AGE    PREAUTH_AMT   CLAIM_AMOUNT\n",
              "count  479688.000000  479688.000000  479688.000000  479688.000000\n",
              "mean   239844.500000      44.912264   30428.941698   27652.205861\n",
              "std    138474.142301      18.961084   27441.592281   25951.706037\n",
              "min         1.000000       0.000000       5.000000       2.000000\n",
              "25%    119922.750000      34.000000   12500.000000   12500.000000\n",
              "50%    239844.500000      47.000000   25000.000000   23200.000000\n",
              "75%    359766.250000      59.000000   35000.000000   30600.000000\n",
              "max    479688.000000     107.000000  520000.000000  520000.000000"
            ],
            "text/html": [
              "\n",
              "  <div id=\"df-c5fca12f-8518-473b-bdcb-7a2f60c0753c\" class=\"colab-df-container\">\n",
              "    <div>\n",
              "<style scoped>\n",
              "    .dataframe tbody tr th:only-of-type {\n",
              "        vertical-align: middle;\n",
              "    }\n",
              "\n",
              "    .dataframe tbody tr th {\n",
              "        vertical-align: top;\n",
              "    }\n",
              "\n",
              "    .dataframe thead th {\n",
              "        text-align: right;\n",
              "    }\n",
              "</style>\n",
              "<table border=\"1\" class=\"dataframe\">\n",
              "  <thead>\n",
              "    <tr style=\"text-align: right;\">\n",
              "      <th></th>\n",
              "      <th></th>\n",
              "      <th>AGE</th>\n",
              "      <th>PREAUTH_AMT</th>\n",
              "      <th>CLAIM_AMOUNT</th>\n",
              "    </tr>\n",
              "  </thead>\n",
              "  <tbody>\n",
              "    <tr>\n",
              "      <th>count</th>\n",
              "      <td>479688.000000</td>\n",
              "      <td>479688.000000</td>\n",
              "      <td>479688.000000</td>\n",
              "      <td>479688.000000</td>\n",
              "    </tr>\n",
              "    <tr>\n",
              "      <th>mean</th>\n",
              "      <td>239844.500000</td>\n",
              "      <td>44.912264</td>\n",
              "      <td>30428.941698</td>\n",
              "      <td>27652.205861</td>\n",
              "    </tr>\n",
              "    <tr>\n",
              "      <th>std</th>\n",
              "      <td>138474.142301</td>\n",
              "      <td>18.961084</td>\n",
              "      <td>27441.592281</td>\n",
              "      <td>25951.706037</td>\n",
              "    </tr>\n",
              "    <tr>\n",
              "      <th>min</th>\n",
              "      <td>1.000000</td>\n",
              "      <td>0.000000</td>\n",
              "      <td>5.000000</td>\n",
              "      <td>2.000000</td>\n",
              "    </tr>\n",
              "    <tr>\n",
              "      <th>25%</th>\n",
              "      <td>119922.750000</td>\n",
              "      <td>34.000000</td>\n",
              "      <td>12500.000000</td>\n",
              "      <td>12500.000000</td>\n",
              "    </tr>\n",
              "    <tr>\n",
              "      <th>50%</th>\n",
              "      <td>239844.500000</td>\n",
              "      <td>47.000000</td>\n",
              "      <td>25000.000000</td>\n",
              "      <td>23200.000000</td>\n",
              "    </tr>\n",
              "    <tr>\n",
              "      <th>75%</th>\n",
              "      <td>359766.250000</td>\n",
              "      <td>59.000000</td>\n",
              "      <td>35000.000000</td>\n",
              "      <td>30600.000000</td>\n",
              "    </tr>\n",
              "    <tr>\n",
              "      <th>max</th>\n",
              "      <td>479688.000000</td>\n",
              "      <td>107.000000</td>\n",
              "      <td>520000.000000</td>\n",
              "      <td>520000.000000</td>\n",
              "    </tr>\n",
              "  </tbody>\n",
              "</table>\n",
              "</div>\n",
              "    <div class=\"colab-df-buttons\">\n",
              "\n",
              "  <div class=\"colab-df-container\">\n",
              "    <button class=\"colab-df-convert\" onclick=\"convertToInteractive('df-c5fca12f-8518-473b-bdcb-7a2f60c0753c')\"\n",
              "            title=\"Convert this dataframe to an interactive table.\"\n",
              "            style=\"display:none;\">\n",
              "\n",
              "  <svg xmlns=\"http://www.w3.org/2000/svg\" height=\"24px\" viewBox=\"0 -960 960 960\">\n",
              "    <path d=\"M120-120v-720h720v720H120Zm60-500h600v-160H180v160Zm220 220h160v-160H400v160Zm0 220h160v-160H400v160ZM180-400h160v-160H180v160Zm440 0h160v-160H620v160ZM180-180h160v-160H180v160Zm440 0h160v-160H620v160Z\"/>\n",
              "  </svg>\n",
              "    </button>\n",
              "\n",
              "  <style>\n",
              "    .colab-df-container {\n",
              "      display:flex;\n",
              "      gap: 12px;\n",
              "    }\n",
              "\n",
              "    .colab-df-convert {\n",
              "      background-color: #E8F0FE;\n",
              "      border: none;\n",
              "      border-radius: 50%;\n",
              "      cursor: pointer;\n",
              "      display: none;\n",
              "      fill: #1967D2;\n",
              "      height: 32px;\n",
              "      padding: 0 0 0 0;\n",
              "      width: 32px;\n",
              "    }\n",
              "\n",
              "    .colab-df-convert:hover {\n",
              "      background-color: #E2EBFA;\n",
              "      box-shadow: 0px 1px 2px rgba(60, 64, 67, 0.3), 0px 1px 3px 1px rgba(60, 64, 67, 0.15);\n",
              "      fill: #174EA6;\n",
              "    }\n",
              "\n",
              "    .colab-df-buttons div {\n",
              "      margin-bottom: 4px;\n",
              "    }\n",
              "\n",
              "    [theme=dark] .colab-df-convert {\n",
              "      background-color: #3B4455;\n",
              "      fill: #D2E3FC;\n",
              "    }\n",
              "\n",
              "    [theme=dark] .colab-df-convert:hover {\n",
              "      background-color: #434B5C;\n",
              "      box-shadow: 0px 1px 3px 1px rgba(0, 0, 0, 0.15);\n",
              "      filter: drop-shadow(0px 1px 2px rgba(0, 0, 0, 0.3));\n",
              "      fill: #FFFFFF;\n",
              "    }\n",
              "  </style>\n",
              "\n",
              "    <script>\n",
              "      const buttonEl =\n",
              "        document.querySelector('#df-c5fca12f-8518-473b-bdcb-7a2f60c0753c button.colab-df-convert');\n",
              "      buttonEl.style.display =\n",
              "        google.colab.kernel.accessAllowed ? 'block' : 'none';\n",
              "\n",
              "      async function convertToInteractive(key) {\n",
              "        const element = document.querySelector('#df-c5fca12f-8518-473b-bdcb-7a2f60c0753c');\n",
              "        const dataTable =\n",
              "          await google.colab.kernel.invokeFunction('convertToInteractive',\n",
              "                                                    [key], {});\n",
              "        if (!dataTable) return;\n",
              "\n",
              "        const docLinkHtml = 'Like what you see? Visit the ' +\n",
              "          '<a target=\"_blank\" href=https://colab.research.google.com/notebooks/data_table.ipynb>data table notebook</a>'\n",
              "          + ' to learn more about interactive tables.';\n",
              "        element.innerHTML = '';\n",
              "        dataTable['output_type'] = 'display_data';\n",
              "        await google.colab.output.renderOutput(dataTable, element);\n",
              "        const docLink = document.createElement('div');\n",
              "        docLink.innerHTML = docLinkHtml;\n",
              "        element.appendChild(docLink);\n",
              "      }\n",
              "    </script>\n",
              "  </div>\n",
              "\n",
              "\n",
              "<div id=\"df-be1f3101-5235-4cad-b45e-6a49e4cb6e2d\">\n",
              "  <button class=\"colab-df-quickchart\" onclick=\"quickchart('df-be1f3101-5235-4cad-b45e-6a49e4cb6e2d')\"\n",
              "            title=\"Suggest charts\"\n",
              "            style=\"display:none;\">\n",
              "\n",
              "<svg xmlns=\"http://www.w3.org/2000/svg\" height=\"24px\"viewBox=\"0 0 24 24\"\n",
              "     width=\"24px\">\n",
              "    <g>\n",
              "        <path d=\"M19 3H5c-1.1 0-2 .9-2 2v14c0 1.1.9 2 2 2h14c1.1 0 2-.9 2-2V5c0-1.1-.9-2-2-2zM9 17H7v-7h2v7zm4 0h-2V7h2v10zm4 0h-2v-4h2v4z\"/>\n",
              "    </g>\n",
              "</svg>\n",
              "  </button>\n",
              "\n",
              "<style>\n",
              "  .colab-df-quickchart {\n",
              "      --bg-color: #E8F0FE;\n",
              "      --fill-color: #1967D2;\n",
              "      --hover-bg-color: #E2EBFA;\n",
              "      --hover-fill-color: #174EA6;\n",
              "      --disabled-fill-color: #AAA;\n",
              "      --disabled-bg-color: #DDD;\n",
              "  }\n",
              "\n",
              "  [theme=dark] .colab-df-quickchart {\n",
              "      --bg-color: #3B4455;\n",
              "      --fill-color: #D2E3FC;\n",
              "      --hover-bg-color: #434B5C;\n",
              "      --hover-fill-color: #FFFFFF;\n",
              "      --disabled-bg-color: #3B4455;\n",
              "      --disabled-fill-color: #666;\n",
              "  }\n",
              "\n",
              "  .colab-df-quickchart {\n",
              "    background-color: var(--bg-color);\n",
              "    border: none;\n",
              "    border-radius: 50%;\n",
              "    cursor: pointer;\n",
              "    display: none;\n",
              "    fill: var(--fill-color);\n",
              "    height: 32px;\n",
              "    padding: 0;\n",
              "    width: 32px;\n",
              "  }\n",
              "\n",
              "  .colab-df-quickchart:hover {\n",
              "    background-color: var(--hover-bg-color);\n",
              "    box-shadow: 0 1px 2px rgba(60, 64, 67, 0.3), 0 1px 3px 1px rgba(60, 64, 67, 0.15);\n",
              "    fill: var(--button-hover-fill-color);\n",
              "  }\n",
              "\n",
              "  .colab-df-quickchart-complete:disabled,\n",
              "  .colab-df-quickchart-complete:disabled:hover {\n",
              "    background-color: var(--disabled-bg-color);\n",
              "    fill: var(--disabled-fill-color);\n",
              "    box-shadow: none;\n",
              "  }\n",
              "\n",
              "  .colab-df-spinner {\n",
              "    border: 2px solid var(--fill-color);\n",
              "    border-color: transparent;\n",
              "    border-bottom-color: var(--fill-color);\n",
              "    animation:\n",
              "      spin 1s steps(1) infinite;\n",
              "  }\n",
              "\n",
              "  @keyframes spin {\n",
              "    0% {\n",
              "      border-color: transparent;\n",
              "      border-bottom-color: var(--fill-color);\n",
              "      border-left-color: var(--fill-color);\n",
              "    }\n",
              "    20% {\n",
              "      border-color: transparent;\n",
              "      border-left-color: var(--fill-color);\n",
              "      border-top-color: var(--fill-color);\n",
              "    }\n",
              "    30% {\n",
              "      border-color: transparent;\n",
              "      border-left-color: var(--fill-color);\n",
              "      border-top-color: var(--fill-color);\n",
              "      border-right-color: var(--fill-color);\n",
              "    }\n",
              "    40% {\n",
              "      border-color: transparent;\n",
              "      border-right-color: var(--fill-color);\n",
              "      border-top-color: var(--fill-color);\n",
              "    }\n",
              "    60% {\n",
              "      border-color: transparent;\n",
              "      border-right-color: var(--fill-color);\n",
              "    }\n",
              "    80% {\n",
              "      border-color: transparent;\n",
              "      border-right-color: var(--fill-color);\n",
              "      border-bottom-color: var(--fill-color);\n",
              "    }\n",
              "    90% {\n",
              "      border-color: transparent;\n",
              "      border-bottom-color: var(--fill-color);\n",
              "    }\n",
              "  }\n",
              "</style>\n",
              "\n",
              "  <script>\n",
              "    async function quickchart(key) {\n",
              "      const quickchartButtonEl =\n",
              "        document.querySelector('#' + key + ' button');\n",
              "      quickchartButtonEl.disabled = true;  // To prevent multiple clicks.\n",
              "      quickchartButtonEl.classList.add('colab-df-spinner');\n",
              "      try {\n",
              "        const charts = await google.colab.kernel.invokeFunction(\n",
              "            'suggestCharts', [key], {});\n",
              "      } catch (error) {\n",
              "        console.error('Error during call to suggestCharts:', error);\n",
              "      }\n",
              "      quickchartButtonEl.classList.remove('colab-df-spinner');\n",
              "      quickchartButtonEl.classList.add('colab-df-quickchart-complete');\n",
              "    }\n",
              "    (() => {\n",
              "      let quickchartButtonEl =\n",
              "        document.querySelector('#df-be1f3101-5235-4cad-b45e-6a49e4cb6e2d button');\n",
              "      quickchartButtonEl.style.display =\n",
              "        google.colab.kernel.accessAllowed ? 'block' : 'none';\n",
              "    })();\n",
              "  </script>\n",
              "</div>\n",
              "\n",
              "    </div>\n",
              "  </div>\n"
            ],
            "application/vnd.google.colaboratory.intrinsic+json": {
              "type": "dataframe",
              "summary": "{\n  \"name\": \"health\",\n  \"rows\": 8,\n  \"fields\": [\n    {\n      \"column\": \"   \",\n      \"properties\": {\n        \"dtype\": \"number\",\n        \"std\": 172881.5712522622,\n        \"min\": 1.0,\n        \"max\": 479688.0,\n        \"num_unique_values\": 6,\n        \"samples\": [\n          479688.0,\n          239844.5,\n          359766.25\n        ],\n        \"semantic_type\": \"\",\n        \"description\": \"\"\n      }\n    },\n    {\n      \"column\": \"AGE\",\n      \"properties\": {\n        \"dtype\": \"number\",\n        \"std\": 169579.62024359446,\n        \"min\": 0.0,\n        \"max\": 479688.0,\n        \"num_unique_values\": 8,\n        \"samples\": [\n          44.91226380480646,\n          47.0,\n          479688.0\n        ],\n        \"semantic_type\": \"\",\n        \"description\": \"\"\n      }\n    },\n    {\n      \"column\": \"PREAUTH_AMT\",\n      \"properties\": {\n        \"dtype\": \"number\",\n        \"std\": 221860.74783042676,\n        \"min\": 5.0,\n        \"max\": 520000.0,\n        \"num_unique_values\": 8,\n        \"samples\": [\n          30428.941697520055,\n          25000.0,\n          479688.0\n        ],\n        \"semantic_type\": \"\",\n        \"description\": \"\"\n      }\n    },\n    {\n      \"column\": \"CLAIM_AMOUNT\",\n      \"properties\": {\n        \"dtype\": \"number\",\n        \"std\": 222608.96110137046,\n        \"min\": 2.0,\n        \"max\": 520000.0,\n        \"num_unique_values\": 8,\n        \"samples\": [\n          27652.205860892915,\n          23200.0,\n          479688.0\n        ],\n        \"semantic_type\": \"\",\n        \"description\": \"\"\n      }\n    }\n  ]\n}"
            }
          },
          "metadata": {},
          "execution_count": 7
        }
      ]
    },
    {
      "cell_type": "code",
      "source": [
        "health.duplicated().any()"
      ],
      "metadata": {
        "colab": {
          "base_uri": "https://localhost:8080/"
        },
        "id": "GWp8_fPpmKMC",
        "outputId": "44f16fdd-99b8-4963-8e67-983826efa15f"
      },
      "execution_count": null,
      "outputs": [
        {
          "output_type": "execute_result",
          "data": {
            "text/plain": [
              "False"
            ]
          },
          "metadata": {},
          "execution_count": 8
        }
      ]
    },
    {
      "cell_type": "code",
      "source": [
        "health.isnull().sum()"
      ],
      "metadata": {
        "colab": {
          "base_uri": "https://localhost:8080/"
        },
        "id": "xMXwh_htmSOP",
        "outputId": "825c5b34-de69-4076-a5cd-8b34a4840f13"
      },
      "execution_count": null,
      "outputs": [
        {
          "output_type": "execute_result",
          "data": {
            "text/plain": [
              "                         0\n",
              "AGE                      0\n",
              "SEX                      0\n",
              "CASTE_NAME               0\n",
              "CATEGORY_CODE            0\n",
              "CATEGORY_NAME            0\n",
              "SURGERY_CODE             0\n",
              "SURGERY                  0\n",
              "VILLAGE                  0\n",
              "MANDAL_NAME              0\n",
              "DISTRICT_NAME            0\n",
              "PREAUTH_DATE             0\n",
              "PREAUTH_AMT              0\n",
              "CLAIM_DATE               0\n",
              "CLAIM_AMOUNT             0\n",
              "HOSP_NAME                0\n",
              "HOSP_TYPE                0\n",
              "HOSP_LOCATION            0\n",
              "HOSP_DISTRICT            0\n",
              "SURGERY_DATE             0\n",
              "DISCHARGE_DATE        4560\n",
              "Mortality Y / N          0\n",
              "MORTALITY_DATE      469566\n",
              "SRC_REGISTRATION         0\n",
              "dtype: int64"
            ]
          },
          "metadata": {},
          "execution_count": 9
        }
      ]
    },
    {
      "cell_type": "markdown",
      "source": [
        "All the required columns for analysis are not having null values. Hence, the discharge datae and mortality date are having the null values, however, if it is required, we can fill the null values or not necessary.\n",
        "\n",
        "For example, if you're using this dataset in PowerBI to create a dashboard or to visualize it with respect to date and time, then data transformation is important.\n",
        "\n",
        "As of now, I am going to perform analysis on other important features."
      ],
      "metadata": {
        "id": "2dSxg7wFuDeX"
      }
    },
    {
      "cell_type": "markdown",
      "source": [
        "Firstly, to analyze the data, it is important to check how the data is distributed. The first and foremost column is Sex. It plays a crucial role in any healthcare data. Based on the sex, we can also find out which gender has the highest impact."
      ],
      "metadata": {
        "id": "gUkhCCUPxMtj"
      }
    },
    {
      "cell_type": "markdown",
      "source": [
        "#Data Exploration"
      ],
      "metadata": {
        "id": "78-6MqEgy2Xq"
      }
    },
    {
      "cell_type": "code",
      "source": [
        "health['SEX'].value_counts()"
      ],
      "metadata": {
        "colab": {
          "base_uri": "https://localhost:8080/"
        },
        "id": "QXiwd1GUmWg4",
        "outputId": "2d88fb4a-29ac-498d-c117-519cff428e4d"
      },
      "execution_count": null,
      "outputs": [
        {
          "output_type": "execute_result",
          "data": {
            "text/plain": [
              "SEX\n",
              "Male             260718\n",
              "Female           178947\n",
              "Male(Child)       25068\n",
              "Female(Child)     14925\n",
              "FEMALE               21\n",
              "MALE                  9\n",
              "Name: count, dtype: int64"
            ]
          },
          "metadata": {},
          "execution_count": 10
        }
      ]
    },
    {
      "cell_type": "markdown",
      "source": [
        "As you can see here in the feature 'SEX', the data for Male and Female is represented for everyone even for the children. Moreover, Male and MALE, Female and FEMALE are not two different sexes. Despite having the same name for the children, we can replace them into Male(Child) as Boy and Female(Child) as Girl."
      ],
      "metadata": {
        "id": "wotSH-FSx2-D"
      }
    },
    {
      "cell_type": "code",
      "source": [
        "#replacing the values\n",
        "health['SEX'].replace({'MALE':'Male','FEMALE':'Female','Male(Child)':'Boy','Female(Child)':'Girl'},inplace=True)\n",
        "health['SEX'].value_counts()"
      ],
      "metadata": {
        "colab": {
          "base_uri": "https://localhost:8080/"
        },
        "id": "EIBv54nrxpRX",
        "outputId": "4c018cb3-e107-47ca-c342-fd59e8981fde"
      },
      "execution_count": null,
      "outputs": [
        {
          "output_type": "execute_result",
          "data": {
            "text/plain": [
              "SEX\n",
              "Male      260727\n",
              "Female    178968\n",
              "Boy        25068\n",
              "Girl       14925\n",
              "Name: count, dtype: int64"
            ]
          },
          "metadata": {},
          "execution_count": 11
        }
      ]
    },
    {
      "cell_type": "code",
      "source": [
        "sns.barplot(x=health['SEX'].value_counts().index,y=health['SEX'].value_counts().values, palette='viridis')\n",
        "plt.show()"
      ],
      "metadata": {
        "colab": {
          "base_uri": "https://localhost:8080/",
          "height": 556
        },
        "id": "ZDdl9dQI1NNs",
        "outputId": "4116f42e-0646-47be-9d05-8121e4a41a7e"
      },
      "execution_count": null,
      "outputs": [
        {
          "output_type": "stream",
          "name": "stderr",
          "text": [
            "<ipython-input-21-5e12b487d3f3>:1: FutureWarning: \n",
            "\n",
            "Passing `palette` without assigning `hue` is deprecated and will be removed in v0.14.0. Assign the `x` variable to `hue` and set `legend=False` for the same effect.\n",
            "\n",
            "  sns.barplot(x=health['SEX'].value_counts().index,y=health['SEX'].value_counts().values, palette='viridis')\n"
          ]
        },
        {
          "output_type": "display_data",
          "data": {
            "text/plain": [
              "<Figure size 640x480 with 1 Axes>"
            ],
            "image/png": "[encoded data removed]"
          },
          "metadata": {}
        }
      ]
    },
    {
      "cell_type": "markdown",
      "source": [
        "The count of male patients are high comparing to Female, Boy and Girl."
      ],
      "metadata": {
        "id": "r7nD36rxHPzW"
      }
    },
    {
      "cell_type": "markdown",
      "source": [
        "Let's find the distribution of data with respect to age and sex."
      ],
      "metadata": {
        "id": "eOXJHmxNHp0l"
      }
    },
    {
      "cell_type": "code",
      "source": [
        "sns.barplot(x=health['SEX'],y=health['AGE'],palette='magma')\n",
        "plt.show()"
      ],
      "metadata": {
        "colab": {
          "base_uri": "https://localhost:8080/",
          "height": 556
        },
        "id": "G_gOte06HAQO",
        "outputId": "059134c1-401d-4faa-f5b9-95ef94c9edf8"
      },
      "execution_count": null,
      "outputs": [
        {
          "output_type": "stream",
          "name": "stderr",
          "text": [
            "<ipython-input-20-3fd4fa2860cd>:1: FutureWarning: \n",
            "\n",
            "Passing `palette` without assigning `hue` is deprecated and will be removed in v0.14.0. Assign the `x` variable to `hue` and set `legend=False` for the same effect.\n",
            "\n",
            "  sns.barplot(x=health['SEX'],y=health['AGE'],palette='magma')\n"
          ]
        },
        {
          "output_type": "display_data",
          "data": {
            "text/plain": [
              "<Figure size 640x480 with 1 Axes>"
            ],
            "image/png": "[encoded data removed]"
          },
          "metadata": {}
        }
      ]
    },
    {
      "cell_type": "markdown",
      "source": [
        "Also, finding the mean, median and mode of the age. Based on this information, we can identify the average age of the people who is commonly affected with the disease. Hence, we can also find the patterns and behavior of the data."
      ],
      "metadata": {
        "id": "LCj8bWegISH5"
      }
    },
    {
      "cell_type": "code",
      "source": [
        "print(\"Mean: {}\".format(health['AGE'].mean()))\n",
        "print(\"Median: {}\".format(health['AGE'].median()))\n",
        "print(\"Mode: {}\".format(health['AGE'].mode()))"
      ],
      "metadata": {
        "colab": {
          "base_uri": "https://localhost:8080/"
        },
        "id": "nvW_Ci71HzAa",
        "outputId": "12902e92-b38e-49da-af39-08177d0e9448"
      },
      "execution_count": null,
      "outputs": [
        {
          "output_type": "stream",
          "name": "stdout",
          "text": [
            "Mean: 44.91226380480646\n",
            "Median: 47.0\n",
            "Mode: 0    0\n",
            "Name: AGE, dtype: int64\n"
          ]
        }
      ]
    },
    {
      "cell_type": "markdown",
      "source": [
        "We can also use boxplots to find the exact data distribution rather than bar plot."
      ],
      "metadata": {
        "id": "EUwmeQ45L1Ig"
      }
    },
    {
      "cell_type": "code",
      "source": [
        "sns.boxplot(health['AGE'])"
      ],
      "metadata": {
        "colab": {
          "base_uri": "https://localhost:8080/",
          "height": 428
        },
        "id": "_oF-vr7pIzYb",
        "outputId": "49a09431-2bda-4224-c656-732fda791a7c"
      },
      "execution_count": null,
      "outputs": [
        {
          "output_type": "execute_result",
          "data": {
            "text/plain": [
              "<Axes: ylabel='AGE'>"
            ]
          },
          "metadata": {},
          "execution_count": 22
        },
        {
          "output_type": "display_data",
          "data": {
            "text/plain": [
              "<Figure size 640x480 with 1 Axes>"
            ],
            "image/png": "[encoded data removed]"
          },
          "metadata": {}
        }
      ]
    },
    {
      "cell_type": "markdown",
      "source": [
        "#Data Analysis"
      ],
      "metadata": {
        "id": "WWqyuRnCM7b6"
      }
    },
    {
      "cell_type": "markdown",
      "source": [
        "Let's see what are the different types of category of surgeries had gone through by the male patients."
      ],
      "metadata": {
        "id": "WiSv4vJVM--D"
      }
    },
    {
      "cell_type": "code",
      "source": [
        "male_patients = health[health['SEX'] == 'Male']['CATEGORY_NAME'].value_counts()\n",
        "print(male_patients)"
      ],
      "metadata": {
        "colab": {
          "base_uri": "https://localhost:8080/"
        },
        "id": "RdgEqoQKNq37",
        "outputId": "70d55945-53e7-4dad-fa43-ec0f3e6d2ea7"
      },
      "execution_count": null,
      "outputs": [
        {
          "output_type": "stream",
          "name": "stdout",
          "text": [
            "CATEGORY_NAME\n",
            "NEPHROLOGY                            54679\n",
            "POLY TRAUMA                           38989\n",
            "GENITO URINARY SURGERIES              29945\n",
            "CARDIAC AND CARDIOTHORACIC SURGERY    28804\n",
            "MEDICAL ONCOLOGY                      22858\n",
            "GENERAL SURGERY                       17134\n",
            "CARDIOLOGY                            13218\n",
            "ORTHOPEDIC  SURGERY AND PROCEDURES    11489\n",
            "NEUROLOGY                              8460\n",
            "OPHTHALMOLOGY  SURGERY                 6776\n",
            "NEUROSURGERY                           6063\n",
            "ENT  SURGERY                           4519\n",
            "RADIATION ONCOLOGY                     3851\n",
            "SURGICAL ONCOLOGY                      3751\n",
            "GASTROENTEROLOGY                       3151\n",
            "PULMONOLOGY                            3046\n",
            "CRITICAL CARE                          1562\n",
            "PLASTIC SURGERY                         788\n",
            "GENERAL MEDICINE                        747\n",
            "SURGICAL GASTRO ENTEROLOGY              598\n",
            "ENDOCRINOLOGY                           182\n",
            "DERMATOLOGY                              48\n",
            "PEDIATRIC SURGERIES                      28\n",
            "RHEUMATOLOGY                             22\n",
            "PEDIATRICS                               15\n",
            "INFECTIOUS DISEASES                       4\n",
            "Name: count, dtype: int64\n"
          ]
        }
      ]
    },
    {
      "cell_type": "markdown",
      "source": [
        "Similarly for female,boys, and girls patients as well."
      ],
      "metadata": {
        "id": "i69MDGHnOQ4l"
      }
    },
    {
      "cell_type": "code",
      "source": [
        "female_patients = health[health['SEX'] == 'Female']['CATEGORY_NAME'].value_counts()\n",
        "print(female_patients)"
      ],
      "metadata": {
        "colab": {
          "base_uri": "https://localhost:8080/"
        },
        "id": "gkL9rWMMOGYk",
        "outputId": "c43cab48-ff20-4ac6-aed5-701445aac975"
      },
      "execution_count": null,
      "outputs": [
        {
          "output_type": "stream",
          "name": "stdout",
          "text": [
            "CATEGORY_NAME\n",
            "MEDICAL ONCOLOGY                       44977\n",
            "POLY TRAUMA                            21623\n",
            "NEPHROLOGY                             20012\n",
            "RADIATION ONCOLOGY                     15046\n",
            "CARDIAC AND CARDIOTHORACIC SURGERY     13245\n",
            "GENITO URINARY SURGERIES                9981\n",
            "OPHTHALMOLOGY  SURGERY                  7242\n",
            "SURGICAL ONCOLOGY                       6923\n",
            "ENT  SURGERY                            6738\n",
            "GENERAL SURGERY                         6566\n",
            "CARDIOLOGY                              5380\n",
            "NEUROLOGY                               4838\n",
            "NEUROSURGERY                            4197\n",
            "GYNAECOLOGY AND OBSTETRICS  SURGERY     3700\n",
            "ORTHOPEDIC  SURGERY AND PROCEDURES      3413\n",
            "PULMONOLOGY                             1542\n",
            "GASTROENTEROLOGY                         762\n",
            "CRITICAL CARE                            743\n",
            "GENERAL MEDICINE                         541\n",
            "PLASTIC SURGERY                          498\n",
            "SURGICAL GASTRO ENTEROLOGY               493\n",
            "ENDOCRINOLOGY                            285\n",
            "RHEUMATOLOGY                             163\n",
            "DERMATOLOGY                               33\n",
            "PEDIATRICS                                15\n",
            "PEDIATRIC SURGERIES                       10\n",
            "PROSTHESES                                 2\n",
            "Name: count, dtype: int64\n"
          ]
        }
      ]
    },
    {
      "cell_type": "code",
      "source": [
        "boy_patients = health[health['SEX'] == 'Boy']['CATEGORY_NAME'].value_counts()\n",
        "print(boy_patients)"
      ],
      "metadata": {
        "colab": {
          "base_uri": "https://localhost:8080/"
        },
        "id": "xj6aubVVOeDn",
        "outputId": "3fcb820e-5c0b-4383-fac7-1d90bcc58023"
      },
      "execution_count": null,
      "outputs": [
        {
          "output_type": "stream",
          "name": "stdout",
          "text": [
            "CATEGORY_NAME\n",
            "PEDIATRICS                            12613\n",
            "POLY TRAUMA                            3243\n",
            "PEDIATRIC SURGERIES                    3196\n",
            "MEDICAL ONCOLOGY                       1474\n",
            "CARDIAC AND CARDIOTHORACIC SURGERY     1106\n",
            "ORTHOPEDIC  SURGERY AND PROCEDURES      621\n",
            "ENT  SURGERY                            466\n",
            "OPHTHALMOLOGY  SURGERY                  465\n",
            "GENITO URINARY SURGERIES                425\n",
            "GENERAL SURGERY                         390\n",
            "NEUROSURGERY                            365\n",
            "PLASTIC SURGERY                         201\n",
            "NEPHROLOGY                              157\n",
            "RADIATION ONCOLOGY                       82\n",
            "COCHLEAR IMPLANT SURGERY                 47\n",
            "GENERAL MEDICINE                         44\n",
            "NEUROLOGY                                33\n",
            "GASTROENTEROLOGY                         32\n",
            "ENDOCRINOLOGY                            31\n",
            "PULMONOLOGY                              23\n",
            "SURGICAL ONCOLOGY                        19\n",
            "CARDIOLOGY                               15\n",
            "SURGICAL GASTRO ENTEROLOGY               11\n",
            "CRITICAL CARE                             7\n",
            "DERMATOLOGY                               1\n",
            "INFECTIOUS DISEASES                       1\n",
            "Name: count, dtype: int64\n"
          ]
        }
      ]
    },
    {
      "cell_type": "code",
      "source": [
        "girl_patients = health[health['SEX'] == 'Girl']['CATEGORY_NAME'].value_counts()\n",
        "print(girl_patients)"
      ],
      "metadata": {
        "colab": {
          "base_uri": "https://localhost:8080/"
        },
        "id": "fgR9R28BOkSl",
        "outputId": "5ba0a193-fca4-4c40-8cc6-aab01258e87e"
      },
      "execution_count": null,
      "outputs": [
        {
          "output_type": "stream",
          "name": "stdout",
          "text": [
            "CATEGORY_NAME\n",
            "PEDIATRICS                             8931\n",
            "CARDIAC AND CARDIOTHORACIC SURGERY     1046\n",
            "POLY TRAUMA                             982\n",
            "PEDIATRIC SURGERIES                     898\n",
            "MEDICAL ONCOLOGY                        849\n",
            "ENT  SURGERY                            378\n",
            "OPHTHALMOLOGY  SURGERY                  307\n",
            "NEUROSURGERY                            292\n",
            "ORTHOPEDIC  SURGERY AND PROCEDURES      257\n",
            "GENERAL SURGERY                         219\n",
            "PLASTIC SURGERY                         195\n",
            "GENITO URINARY SURGERIES                163\n",
            "NEPHROLOGY                               99\n",
            "RADIATION ONCOLOGY                       59\n",
            "SURGICAL ONCOLOGY                        38\n",
            "GENERAL MEDICINE                         34\n",
            "NEUROLOGY                                30\n",
            "COCHLEAR IMPLANT SURGERY                 27\n",
            "GASTROENTEROLOGY                         24\n",
            "PULMONOLOGY                              19\n",
            "GYNAECOLOGY AND OBSTETRICS  SURGERY      19\n",
            "CARDIOLOGY                               16\n",
            "ENDOCRINOLOGY                            12\n",
            "RHEUMATOLOGY                             11\n",
            "SURGICAL GASTRO ENTEROLOGY               11\n",
            "CRITICAL CARE                             9\n",
            "Name: count, dtype: int64\n"
          ]
        }
      ]
    },
    {
      "cell_type": "markdown",
      "source": [
        "Now, finding out which district in the state of Andhra pradesh has the highest number of patients."
      ],
      "metadata": {
        "id": "nwzWdX0UOr3Q"
      }
    },
    {
      "cell_type": "code",
      "source": [
        "# Group the data by district and count the number of patients in each district\n",
        "district_counts = health['DISTRICT_NAME'].value_counts()\n",
        "\n",
        "# Get the district with the highest number of patients\n",
        "district_with_most_patients = district_counts.index[0]\n",
        "\n",
        "print(f\"The district with the highest number of patients is: {district_with_most_patients}\")"
      ],
      "metadata": {
        "colab": {
          "base_uri": "https://localhost:8080/"
        },
        "id": "TDB-9z_kOnIr",
        "outputId": "adb011c0-7147-43bc-e2ef-071f8fe1a289"
      },
      "execution_count": null,
      "outputs": [
        {
          "output_type": "stream",
          "name": "stdout",
          "text": [
            "The district with the highest number of patients is: East Godavari\n"
          ]
        }
      ]
    },
    {
      "cell_type": "markdown",
      "source": [
        "To find the types of surgeries done in the East Godavari district."
      ],
      "metadata": {
        "id": "0F_DOekrPl3a"
      }
    },
    {
      "cell_type": "code",
      "source": [
        "east_godavari_surgeries = health[health['DISTRICT_NAME'] == 'East Godavari']['SURGERY'].value_counts()\n",
        "print(east_godavari_surgeries)"
      ],
      "metadata": {
        "colab": {
          "base_uri": "https://localhost:8080/"
        },
        "id": "xCDhYDXZPj9K",
        "outputId": "517a47cd-007d-4c12-b942-42e18bc81d93"
      },
      "execution_count": null,
      "outputs": [
        {
          "output_type": "stream",
          "name": "stdout",
          "text": [
            "SURGERY\n",
            "Surgical Correction Of Longbone Fracture                                           6998\n",
            "Maintenance Hemodialysis For Crf                                                   6294\n",
            "Chemotherapy for Cervical Cancer with Weekly Cisplatin                             2604\n",
            "Coronary Balloon Angioplasty with Drug eluting stent(00.45)                        1776\n",
            "Palliative Chemotherapy for unlisted Regimen                                       1649\n",
            "                                                                                   ... \n",
            "Tapping of Brain Abscess                                                              1\n",
            "Renal Cyst Excision                                                                   1\n",
            "Warren Shunt for Portal Hypertension                                                  1\n",
            "TGA - Sennings Procedure                                                              1\n",
            "Chemotherapy for Colorectal Cancer with Capecitabine + bevacizumab (metastatic)       1\n",
            "Name: count, Length: 646, dtype: int64\n"
          ]
        }
      ]
    },
    {
      "cell_type": "markdown",
      "source": [
        "As we can see, it is difficult to find out the common surgeries in the district 'East Godavari' with all the surgeries done. Therefore, finding the most common surgery in each district would be efficient."
      ],
      "metadata": {
        "id": "PGzpeuT5QiCb"
      }
    },
    {
      "cell_type": "code",
      "source": [
        "for i in health['DISTRICT_NAME'].unique():\n",
        "  print(\"District: {}\\nDisease and Count: {}\\n\".format(i, health[health['DISTRICT_NAME']==i]['SURGERY'].value_counts().head(1)))"
      ],
      "metadata": {
        "colab": {
          "base_uri": "https://localhost:8080/"
        },
        "id": "EWnu3r6lPr9a",
        "outputId": "f3fa92ad-8880-4bd3-d805-bc0c5e4c8109"
      },
      "execution_count": null,
      "outputs": [
        {
          "output_type": "stream",
          "name": "stdout",
          "text": [
            "District: Srikakulam\n",
            "Disease and Count: SURGERY\n",
            "Maintenance Hemodialysis For Crf    3970\n",
            "Name: count, dtype: int64\n",
            "\n",
            "District: Kurnool\n",
            "Disease and Count: SURGERY\n",
            "Surgical Correction Of Longbone Fracture    2943\n",
            "Name: count, dtype: int64\n",
            "\n",
            "District: Vizianagaram\n",
            "Disease and Count: SURGERY\n",
            "Surgical Correction Of Longbone Fracture    2754\n",
            "Name: count, dtype: int64\n",
            "\n",
            "District: Guntur\n",
            "Disease and Count: SURGERY\n",
            "Surgical Correction Of Longbone Fracture    5259\n",
            "Name: count, dtype: int64\n",
            "\n",
            "District: Vishakhapatnam\n",
            "Disease and Count: SURGERY\n",
            "Maintenance Hemodialysis For Crf    5270\n",
            "Name: count, dtype: int64\n",
            "\n",
            "District: West Godavari\n",
            "Disease and Count: SURGERY\n",
            "Maintenance Hemodialysis For Crf    5478\n",
            "Name: count, dtype: int64\n",
            "\n",
            "District: Krishna\n",
            "Disease and Count: SURGERY\n",
            "Maintenance Hemodialysis For Crf    6026\n",
            "Name: count, dtype: int64\n",
            "\n",
            "District: East Godavari\n",
            "Disease and Count: SURGERY\n",
            "Surgical Correction Of Longbone Fracture    6998\n",
            "Name: count, dtype: int64\n",
            "\n",
            "District: Prakasam\n",
            "Disease and Count: SURGERY\n",
            "Maintenance Hemodialysis For Crf    6215\n",
            "Name: count, dtype: int64\n",
            "\n",
            "District: Nellore\n",
            "Disease and Count: SURGERY\n",
            "Maintenance Hemodialysis For Crf    10824\n",
            "Name: count, dtype: int64\n",
            "\n",
            "District: YSR Kadapa\n",
            "Disease and Count: SURGERY\n",
            "Surgical Correction Of Longbone Fracture    4532\n",
            "Name: count, dtype: int64\n",
            "\n",
            "District: Chittoor\n",
            "Disease and Count: SURGERY\n",
            "Maintenance Hemodialysis For Crf    5221\n",
            "Name: count, dtype: int64\n",
            "\n",
            "District: Anantapur\n",
            "Disease and Count: SURGERY\n",
            "Surgical Correction Of Longbone Fracture    5265\n",
            "Name: count, dtype: int64\n",
            "\n"
          ]
        }
      ]
    },
    {
      "cell_type": "markdown",
      "source": [
        "From the analysis, it is clearly known that the **'Hemodialysis'** and **'Longbone Fracture'** plays an important factor in the respective districts."
      ],
      "metadata": {
        "id": "uAxIQhfjTdUJ"
      }
    },
    {
      "cell_type": "markdown",
      "source": [
        "Now, let's take a look into the average amount claimed by district."
      ],
      "metadata": {
        "id": "ofw2QlrLUP3G"
      }
    },
    {
      "cell_type": "code",
      "source": [
        "for i in health['DISTRICT_NAME'].unique():\n",
        "  print(\"District: {}\\nClaimed amount: ₹{}\\n\".format(i, health[health['DISTRICT_NAME']==i]['CLAIM_AMOUNT'].mean()))"
      ],
      "metadata": {
        "colab": {
          "base_uri": "https://localhost:8080/"
        },
        "id": "ppEbE_UbS7KK",
        "outputId": "5f37cee0-08c4-42e7-d81e-23ca2c920749"
      },
      "execution_count": null,
      "outputs": [
        {
          "output_type": "stream",
          "name": "stdout",
          "text": [
            "District: Srikakulam\n",
            "Claimed amount: ₹25593.712618634367\n",
            "\n",
            "District: Kurnool\n",
            "Claimed amount: ₹28598.91853309593\n",
            "\n",
            "District: Vizianagaram\n",
            "Claimed amount: ₹25097.78006899492\n",
            "\n",
            "District: Guntur\n",
            "Claimed amount: ₹31048.73950729927\n",
            "\n",
            "District: Vishakhapatnam\n",
            "Claimed amount: ₹25977.94638304871\n",
            "\n",
            "District: West Godavari\n",
            "Claimed amount: ₹27936.70608610806\n",
            "\n",
            "District: Krishna\n",
            "Claimed amount: ₹31015.383233247547\n",
            "\n",
            "District: East Godavari\n",
            "Claimed amount: ₹26166.136719737173\n",
            "\n",
            "District: Prakasam\n",
            "Claimed amount: ₹28655.81036215859\n",
            "\n",
            "District: Nellore\n",
            "Claimed amount: ₹26105.122376744654\n",
            "\n",
            "District: YSR Kadapa\n",
            "Claimed amount: ₹27945.216899192998\n",
            "\n",
            "District: Chittoor\n",
            "Claimed amount: ₹25708.102690948628\n",
            "\n",
            "District: Anantapur\n",
            "Claimed amount: ₹27664.166978581827\n",
            "\n"
          ]
        }
      ]
    },
    {
      "cell_type": "markdown",
      "source": [
        "Moreover, looking into the surgery statistics will help the organization to understand as which category plays an imperative role for the patients' age as well as in the financial terms."
      ],
      "metadata": {
        "id": "hB3y1m_fVvXB"
      }
    },
    {
      "cell_type": "code",
      "source": [
        "# Calculate surgery statistics (without median age)\n",
        "surgery_stats = health.groupby(['CATEGORY_NAME'])[['AGE', 'PREAUTH_AMT','CLAIM_AMOUNT']].agg({'AGE': ['mean'], 'PREAUTH_AMT':['mean'],'CLAIM_AMOUNT': ['mean']})\n",
        "print(surgery_stats)"
      ],
      "metadata": {
        "colab": {
          "base_uri": "https://localhost:8080/"
        },
        "id": "HwSCh3OEWU0M",
        "outputId": "4558f1bc-3cf2-4566-e896-99785172a5f5"
      },
      "execution_count": null,
      "outputs": [
        {
          "output_type": "stream",
          "name": "stdout",
          "text": [
            "                                           AGE    PREAUTH_AMT   CLAIM_AMOUNT\n",
            "                                          mean           mean           mean\n",
            "CATEGORY_NAME                                                               \n",
            "CARDIAC AND CARDIOTHORACIC SURGERY   51.764553   87052.165471   82487.123074\n",
            "CARDIOLOGY                           54.652048   33215.140211   26731.893660\n",
            "COCHLEAR IMPLANT SURGERY              1.581081  520000.000000  516486.486486\n",
            "CRITICAL CARE                        51.014649   69927.226196   50185.150797\n",
            "DERMATOLOGY                          46.573171   28003.012195   21728.353659\n",
            "ENDOCRINOLOGY                        45.066667   18981.376471   14875.437255\n",
            "ENT  SURGERY                         32.521940   15691.907198   14938.095612\n",
            "GASTROENTEROLOGY                     41.662383   37085.464601   23798.118922\n",
            "GENERAL MEDICINE                     35.330161   30347.573939   21840.991215\n",
            "GENERAL SURGERY                      44.979473   29818.585421   28142.764203\n",
            "GENITO URINARY SURGERIES             43.718295   29426.211532   28709.646344\n",
            "GYNAECOLOGY AND OBSTETRICS  SURGERY  41.442323   27614.600699   23180.202474\n",
            "INFECTIOUS DISEASES                  35.800000   27970.000000   24336.000000\n",
            "MEDICAL ONCOLOGY                     48.545298    7234.080290    6819.998475\n",
            "NEPHROLOGY                           48.011808   14309.566173   13524.963628\n",
            "NEUROLOGY                            56.160018   24547.013248   19810.427139\n",
            "NEUROSURGERY                         43.187689   53718.705139   49993.359806\n",
            "OPHTHALMOLOGY  SURGERY               49.846924   16474.566599   15848.563286\n",
            "ORTHOPEDIC  SURGERY AND PROCEDURES   36.967490   27358.743536   23291.952598\n",
            "PEDIATRIC SURGERIES                   3.504840   34134.385044   32061.504598\n",
            "PEDIATRICS                            1.413553   29797.617781   24837.604014\n",
            "PLASTIC SURGERY                      27.419738   61115.505351   37437.164090\n",
            "POLY TRAUMA                          46.256150   32501.263044   28247.750837\n",
            "PROSTHESES                           48.500000    1200.000000    1200.000000\n",
            "PULMONOLOGY                          51.937149   32743.249244   25631.090065\n",
            "RADIATION ONCOLOGY                   51.835382   33656.716935   31808.693718\n",
            "RHEUMATOLOGY                         29.392857   28897.321429   20852.372449\n",
            "SURGICAL GASTRO ENTEROLOGY           44.645103   64127.925427   59249.639712\n",
            "SURGICAL ONCOLOGY                    50.940826   45243.913335   42502.467151\n"
          ]
        }
      ]
    },
    {
      "cell_type": "markdown",
      "source": [
        "At ₹ 520,000 on average, cochlear implant surgery seems to be the most costly procedure. Prostheses are the least expensive at ₹ 1,200. Neurology has an average age of 56 years, while cochlear implant surgery has the youngest age group at 1.58 years."
      ],
      "metadata": {
        "id": "weLsFvnUamMg"
      }
    }
  ]
}